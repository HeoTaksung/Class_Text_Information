{
 "cells": [
  {
   "cell_type": "code",
   "execution_count": 1,
   "metadata": {},
   "outputs": [],
   "source": [
    "from nltk.tokenize import word_tokenize\n",
    "from nltk.tokenize import RegexpTokenizer\n",
    "from collections import Counter\n",
    "from nltk.tag import pos_tag\n",
    "from nltk.stem.snowball import SnowballStemmer\n",
    "import re\n",
    "from bs4 import BeautifulSoup\n",
    "import requests\n",
    "\n",
    "outfile = open('./news_document.txt', 'w', encoding='UTF8')\n",
    "res = requests.get('https://www.nytimes.com/2018/12/03/upshot/why-hospitals-should-let-you-sleep.html?rref=collection%2Fsectioncollection%2Fscience&action=click&contentCollection=science&region=stream&module=stream_unit&version=latest&contentPlacement=6&pgtype=sectionfront')\n",
    "soup = BeautifulSoup(res.content, \"html.parser\")\n",
    "\n",
    "title_data = soup.find('h1')\n",
    "outfile.write(title_data.get_text())\n",
    "\n",
    "paragraph_data = soup.find_all('p')\n",
    "for i in range(len(paragraph_data)):\n",
    "    outfile.write(paragraph_data[i].get_text()+'\\n')\n",
    "outfile.close()"
   ]
  },
  {
   "cell_type": "code",
   "execution_count": 2,
   "metadata": {},
   "outputs": [],
   "source": [
    "stemmer = SnowballStemmer(\"english\")\n",
    "\n",
    "filename = './news_document.txt'\n",
    "s = \"\"\n",
    "s1 = ''\n",
    "sentence = []\n",
    "\n",
    "with open(filename, 'r', encoding='UTF8') as f:\n",
    "    for sen in f:\n",
    "        s += sen.lower()\n",
    "sentence = s.split('\\n')\n",
    "\n",
    "for i in range(len(sentence)):\n",
    "    res = re.sub('[.]', '.\\n', sentence[i])\n",
    "    res = re.sub('[?]', '?\\n', res)\n",
    "    res += '\\n'\n",
    "    s1 += res\n",
    "sentence_list = s.split('\\n')"
   ]
  },
  {
   "cell_type": "code",
   "execution_count": 3,
   "metadata": {},
   "outputs": [
    {
     "name": "stdout",
     "output_type": "stream",
     "text": [
      "['hospit', 'patient', 'disrupt', 'univers', 'medic']\n"
     ]
    }
   ],
   "source": [
    "token_sentence = []\n",
    "tagged_list = []\n",
    "test = []\n",
    "retokenize = RegexpTokenizer(\"[\\w]+\")\n",
    "for i in sentence_list:\n",
    "    token_sentence.append(retokenize.tokenize(i))\n",
    "    tagged_list.append(pos_tag(word_tokenize((i))))\n",
    "\n",
    "NN_list = []\n",
    "NN_final = []\n",
    "\n",
    "for i in range(len(tagged_list)):\n",
    "    seg = []\n",
    "    for idx, j in enumerate(tagged_list[i]):\n",
    "        if tagged_list[i][idx][1] == 'NN' or tagged_list[i][idx][1] == 'NNP' or tagged_list[i][idx][1] == 'NNS':\n",
    "            NN_list.append(stemmer.stem(tagged_list[i][idx][0]))\n",
    "            seg.append((stemmer.stem(tagged_list[i][idx][0]), idx))\n",
    "    NN_final.append(seg)\n",
    "\n",
    "final_sentence = []\n",
    "for i in range(len(tagged_list)):\n",
    "    ex = []\n",
    "    for j in range(len(tagged_list[i])):\n",
    "        ex.append(tagged_list[i][j][0])\n",
    "    final_sentence.append(ex)\n",
    "\n",
    "for i in range(len(NN_final)):\n",
    "    for j in range(len(NN_final[i])):\n",
    "        final_sentence[i][NN_final[i][j][1]] = NN_final[i][j][0]\n",
    "N = ' '.join(NN_list)\n",
    "N = re.sub('[^a-zA-Z]', ' ', N)\n",
    "N_N = N.strip().split(' ')\n",
    "while '' in N_N:\n",
    "    N_N.remove('')\n",
    "\n",
    "counts = Counter(N_N)\n",
    "max_NN = []\n",
    "for i in range(5):\n",
    "    max_NN.append(counts.most_common(n=20)[i][0])\n",
    "print(max_NN)"
   ]
  },
  {
   "cell_type": "code",
   "execution_count": 4,
   "metadata": {},
   "outputs": [
    {
     "name": "stdout",
     "output_type": "stream",
     "text": [
      "it’s more than annoying — such disruptions can harm patients. short sleep durations are associated with reduced immune function, delirium, hypertension and mood disorders. hospital conditions, including sleep disruptions, may contribute to “posthospital syndrome” — the period of vulnerability to a host of health problems after hospitalization that are not related to the reason for that hospitalization.\n"
     ]
    }
   ],
   "source": [
    "count_list = []\n",
    "\n",
    "for i in range(len(final_sentence)):\n",
    "    count = 0\n",
    "    for j in range(len(final_sentence[i])):\n",
    "        if final_sentence[i][j] in max_NN:\n",
    "            count += 1\n",
    "    count_list.append(count)\n",
    "\n",
    "number = max(count_list)\n",
    "sentence_num = count_list.index(number)\n",
    "print(sentence_list[sentence_num])"
   ]
  },
  {
   "cell_type": "code",
   "execution_count": null,
   "metadata": {},
   "outputs": [],
   "source": []
  }
 ],
 "metadata": {
  "kernelspec": {
   "display_name": "Python 3",
   "language": "python",
   "name": "python3"
  },
  "language_info": {
   "codemirror_mode": {
    "name": "ipython",
    "version": 3
   },
   "file_extension": ".py",
   "mimetype": "text/x-python",
   "name": "python",
   "nbconvert_exporter": "python",
   "pygments_lexer": "ipython3",
   "version": "3.6.8"
  }
 },
 "nbformat": 4,
 "nbformat_minor": 2
}
