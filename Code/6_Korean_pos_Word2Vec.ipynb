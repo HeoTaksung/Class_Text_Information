{
 "cells": [
  {
   "cell_type": "code",
   "execution_count": 1,
   "metadata": {},
   "outputs": [],
   "source": [
    "from konlpy.tag import Okt\n",
    "okt=Okt()\n",
    "\n",
    "file = open('./ratings_train.txt', 'r', encoding='utf-8-sig')\n",
    "\n",
    "sentences = []\n",
    "\n",
    "for idx, line in enumerate(file):\n",
    "    if idx == 0:\n",
    "        continue\n",
    "    line = line.split('\\t')[1]\n",
    "    sentences.append(line)"
   ]
  },
  {
   "cell_type": "code",
   "execution_count": 2,
   "metadata": {},
   "outputs": [],
   "source": [
    "sentences_pos = []\n",
    "\n",
    "for line in sentences:\n",
    "    sentences_pos.append(okt.pos(line))"
   ]
  },
  {
   "cell_type": "code",
   "execution_count": 3,
   "metadata": {},
   "outputs": [
    {
     "name": "stdout",
     "output_type": "stream",
     "text": [
      "[[('아', 'Exclamation'), ('더빙', 'Noun'), ('..', 'Punctuation'), ('진짜', 'Noun'), ('짜증나네요', 'Adjective'), ('목소리', 'Noun')], [('흠', 'Noun'), ('...', 'Punctuation'), ('포스터', 'Noun'), ('보고', 'Noun'), ('초딩', 'Noun'), ('영화', 'Noun'), ('줄', 'Noun'), ('....', 'Punctuation'), ('오버', 'Noun'), ('연기', 'Noun'), ('조차', 'Josa'), ('가볍지', 'Adjective'), ('않구나', 'Verb')]]\n"
     ]
    }
   ],
   "source": [
    "print(sentences_pos[:2])"
   ]
  },
  {
   "cell_type": "code",
   "execution_count": 4,
   "metadata": {},
   "outputs": [],
   "source": [
    "def tokenize(data):\n",
    "    word_pos = []\n",
    "    for sent in data:\n",
    "        new_tokens = []\n",
    "        for token in sent:\n",
    "            new_token = token[0]+'/'+token[1]\n",
    "            new_tokens.append(new_token)\n",
    "        word_pos.append(new_tokens)\n",
    "    return word_pos"
   ]
  },
  {
   "cell_type": "code",
   "execution_count": 5,
   "metadata": {},
   "outputs": [],
   "source": [
    "sentences_pos_data = tokenize(sentences_pos)"
   ]
  },
  {
   "cell_type": "code",
   "execution_count": 6,
   "metadata": {},
   "outputs": [
    {
     "name": "stdout",
     "output_type": "stream",
     "text": [
      "[['아/Exclamation', '더빙/Noun', '../Punctuation', '진짜/Noun', '짜증나네요/Adjective', '목소리/Noun'], ['흠/Noun', '.../Punctuation', '포스터/Noun', '보고/Noun', '초딩/Noun', '영화/Noun', '줄/Noun', '..../Punctuation', '오버/Noun', '연기/Noun', '조차/Josa', '가볍지/Adjective', '않구나/Verb']]\n"
     ]
    }
   ],
   "source": [
    "print(sentences_pos_data[:2])"
   ]
  },
  {
   "cell_type": "code",
   "execution_count": 7,
   "metadata": {},
   "outputs": [],
   "source": [
    "from gensim.models.word2vec import Word2Vec\n",
    "\n",
    "skip_model = Word2Vec(sentences_pos_data, min_count=1, size= 100, window=5, sg = 1)"
   ]
  },
  {
   "cell_type": "code",
   "execution_count": 8,
   "metadata": {},
   "outputs": [
    {
     "data": {
      "text/plain": [
       "[('엄마/Noun', 0.8908101916313171),\n",
       " ('딸아이/Noun', 0.8228320479393005),\n",
       " ('남친/Noun', 0.8160096406936646),\n",
       " ('마누라/Noun', 0.8101527690887451),\n",
       " ('여자친구/Noun', 0.8086434602737427),\n",
       " ('아기/Noun', 0.808586835861206),\n",
       " ('할머니/Noun', 0.8071640729904175),\n",
       " ('딸/Noun', 0.8056565523147583),\n",
       " ('남자친구/Noun', 0.8044284582138062),\n",
       " ('남편/Noun', 0.7992078065872192)]"
      ]
     },
     "execution_count": 8,
     "metadata": {},
     "output_type": "execute_result"
    }
   ],
   "source": [
    "skip_model.wv.most_similar(\"아빠/Noun\")"
   ]
  },
  {
   "cell_type": "code",
   "execution_count": 9,
   "metadata": {},
   "outputs": [],
   "source": [
    "from gensim.models.word2vec import Word2Vec\n",
    "\n",
    "cbow_model = Word2Vec(sentences_pos_data, min_count=1, size= 100, window=5, sg = 0)"
   ]
  },
  {
   "cell_type": "code",
   "execution_count": 10,
   "metadata": {},
   "outputs": [
    {
     "data": {
      "text/plain": [
       "[('엄마/Noun', 0.9484537839889526),\n",
       " ('여자친구/Noun', 0.8868973851203918),\n",
       " ('아내/Noun', 0.8742488026618958),\n",
       " ('아버지/Noun', 0.8487802743911743),\n",
       " ('와이프/Noun', 0.8455718755722046),\n",
       " ('친구/Noun', 0.8449427485466003),\n",
       " ('할아버지/Noun', 0.8438078165054321),\n",
       " ('할머니/Noun', 0.8412425518035889),\n",
       " ('마누라/Noun', 0.8361170291900635),\n",
       " ('고양이/Noun', 0.8344758749008179)]"
      ]
     },
     "execution_count": 10,
     "metadata": {},
     "output_type": "execute_result"
    }
   ],
   "source": [
    "cbow_model.wv.most_similar(\"아빠/Noun\")"
   ]
  },
  {
   "cell_type": "code",
   "execution_count": 11,
   "metadata": {},
   "outputs": [
    {
     "name": "stdout",
     "output_type": "stream",
     "text": [
      "[-0.06649327 -0.74167836 -1.8872246  -0.38194382 -1.148142    0.41653714\n",
      "  0.02945347 -0.5363713   0.00347784 -0.68987256 -0.14102308  0.62485063\n",
      " -0.52645475  0.08672894  0.39700875 -1.126724   -0.16853185  1.1444194\n",
      "  0.27808973 -0.6378305  -0.4515493   0.0883295   0.86621183 -0.11127836\n",
      "  1.225175    1.8970532   0.3218549   0.7849824   0.9062104   0.3216647\n",
      " -0.84967303 -0.6679281  -0.59706914 -0.7178133  -1.226061    0.26269448\n",
      " -0.2532964  -0.47266567 -0.36338088 -1.1986499   0.75035673 -0.47410357\n",
      "  0.06794995 -0.79476595 -0.17151058 -0.7202341  -0.6421943   0.02499986\n",
      "  0.8783207  -0.10837147  0.2790727  -0.40563405 -0.5513927  -0.3301557\n",
      " -0.9093368  -0.85840875  0.90937793  0.07423613  0.9648937  -0.39980516\n",
      "  0.04463227 -0.9441168  -0.5292338  -1.2120606  -0.67093754 -0.9030882\n",
      " -0.25343564 -0.8460104  -0.99938333 -0.59760773  0.09968551 -0.5199582\n",
      " -0.3084038  -0.39055842 -1.9186457   0.66388524 -1.2001497   0.3135263\n",
      "  0.04595473  0.86331236  0.06948435  0.5955806  -1.274234    0.3707876\n",
      "  0.754652   -0.21557587 -1.2712466  -0.79223764 -0.14153388  1.392413\n",
      " -0.31872565 -0.4814083   0.5415732  -0.18027672 -0.6270563  -1.0158107\n",
      "  0.35799664  0.5941997   0.70022297 -0.6821091 ]\n"
     ]
    }
   ],
   "source": [
    "vector = cbow_model.wv['아빠/Noun']\n",
    "print(vector)"
   ]
  },
  {
   "cell_type": "code",
   "execution_count": 12,
   "metadata": {},
   "outputs": [
    {
     "name": "stdout",
     "output_type": "stream",
     "text": [
      "0.93792576\n"
     ]
    }
   ],
   "source": [
    "from numpy import dot\n",
    "from numpy.linalg import norm\n",
    "\n",
    "def cos_sim(A, B):\n",
    "       return dot(A, B)/(norm(A)*norm(B))\n",
    "\n",
    "vector1 = cbow_model.wv['남자/Noun']\n",
    "vector2 = cbow_model.wv['여자/Noun']\n",
    "\n",
    "print(cos_sim(vector1, vector2))"
   ]
  },
  {
   "cell_type": "code",
   "execution_count": 13,
   "metadata": {},
   "outputs": [
    {
     "name": "stderr",
     "output_type": "stream",
     "text": [
      "c:\\python\\venv\\tensorflow\\lib\\site-packages\\ipykernel_launcher.py:1: DeprecationWarning: Call to deprecated `similarity` (Method will be removed in 4.0.0, use self.wv.similarity() instead).\n",
      "  \"\"\"Entry point for launching an IPython kernel.\n"
     ]
    },
    {
     "data": {
      "text/plain": [
       "0.40131164"
      ]
     },
     "execution_count": 13,
     "metadata": {},
     "output_type": "execute_result"
    }
   ],
   "source": [
    "cbow_model.similarity('배우/Noun', '남자/Noun')"
   ]
  },
  {
   "cell_type": "code",
   "execution_count": 20,
   "metadata": {},
   "outputs": [],
   "source": []
  }
 ],
 "metadata": {
  "kernelspec": {
   "display_name": "Python 3",
   "language": "python",
   "name": "python3"
  },
  "language_info": {
   "codemirror_mode": {
    "name": "ipython",
    "version": 3
   },
   "file_extension": ".py",
   "mimetype": "text/x-python",
   "name": "python",
   "nbconvert_exporter": "python",
   "pygments_lexer": "ipython3",
   "version": "3.6.8"
  }
 },
 "nbformat": 4,
 "nbformat_minor": 2
}
