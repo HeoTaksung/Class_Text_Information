{
 "cells": [
  {
   "cell_type": "code",
   "execution_count": 1,
   "metadata": {},
   "outputs": [
    {
     "name": "stderr",
     "output_type": "stream",
     "text": [
      "[nltk_data] Downloading package movie_reviews to\n",
      "[nltk_data]     C:\\Users\\HTS\\AppData\\Roaming\\nltk_data...\n",
      "[nltk_data]   Package movie_reviews is already up-to-date!\n"
     ]
    },
    {
     "data": {
      "text/plain": [
       "True"
      ]
     },
     "execution_count": 1,
     "metadata": {},
     "output_type": "execute_result"
    }
   ],
   "source": [
    "import nltk\n",
    "nltk.download('movie_reviews')"
   ]
  },
  {
   "cell_type": "code",
   "execution_count": 2,
   "metadata": {},
   "outputs": [],
   "source": [
    "from nltk.corpus import movie_reviews\n",
    "\n",
    "sentences = []\n",
    "\n",
    "for i in movie_reviews.sents():\n",
    "    words = [w.lower() for w in i if w >= 'A' and w <='z']\n",
    "    sentences.append(words)"
   ]
  },
  {
   "cell_type": "code",
   "execution_count": 3,
   "metadata": {},
   "outputs": [
    {
     "name": "stdout",
     "output_type": "stream",
     "text": [
      "[['plot', 'two', 'teen', 'couples', 'go', 'to', 'a', 'church', 'party', 'drink', 'and', 'then', 'drive'], ['they', 'get', 'into', 'an', 'accident'], ['one', 'of', 'the', 'guys', 'dies', 'but', 'his', 'girlfriend', 'continues', 'to', 'see', 'him', 'in', 'her', 'life', 'and', 'has', 'nightmares'], ['what', 's', 'the', 'deal'], ['watch', 'the', 'movie', 'and', 'sorta', 'find', 'out']]\n"
     ]
    }
   ],
   "source": [
    "print(sentences[:5])"
   ]
  },
  {
   "cell_type": "code",
   "execution_count": 4,
   "metadata": {},
   "outputs": [],
   "source": [
    "from gensim.models.word2vec import Word2Vec\n",
    "\n",
    "skip_model = Word2Vec(sentences, min_count=1, size= 100, window=5, sg = 1)"
   ]
  },
  {
   "cell_type": "code",
   "execution_count": 5,
   "metadata": {},
   "outputs": [
    {
     "name": "stdout",
     "output_type": "stream",
     "text": [
      "boy ,  girl  :  0.8811711\n",
      "king ,  queen  :  0.6217085\n",
      "like ,  love  :  0.34793532\n",
      "dog ,  cat  :  0.7542799\n",
      "phone ,  computer  :  0.34702745\n",
      "singing ,  sing  :  0.80165\n"
     ]
    },
    {
     "name": "stderr",
     "output_type": "stream",
     "text": [
      "c:\\python\\venv\\tensorflow\\lib\\site-packages\\ipykernel_launcher.py:5: DeprecationWarning: Call to deprecated `similarity` (Method will be removed in 4.0.0, use self.wv.similarity() instead).\n",
      "  \"\"\"\n"
     ]
    }
   ],
   "source": [
    "first_word = ['boy', 'king', 'like', 'dog', 'phone', 'singing']\n",
    "second_word = ['girl', 'queen', 'love', 'cat', 'computer', 'sing']\n",
    "\n",
    "for i in range(len(first_word)):\n",
    "    print(first_word[i], ', ', second_word[i], ' : ', skip_model.similarity(first_word[i], second_word[i]))"
   ]
  },
  {
   "cell_type": "code",
   "execution_count": 6,
   "metadata": {},
   "outputs": [
    {
     "data": {
      "text/plain": [
       "[('girl', 0.8811711072921753),\n",
       " ('kid', 0.8166028261184692),\n",
       " ('jack', 0.7904952168464661),\n",
       " ('jill', 0.7899280786514282),\n",
       " ('paulie', 0.7864950895309448),\n",
       " ('lady', 0.7856887578964233),\n",
       " ('patient', 0.7822335958480835),\n",
       " ('finn', 0.7739363312721252),\n",
       " ('woman', 0.7731512784957886),\n",
       " ('pet', 0.7715932130813599)]"
      ]
     },
     "execution_count": 6,
     "metadata": {},
     "output_type": "execute_result"
    }
   ],
   "source": [
    "skip_model.wv.most_similar(\"boy\")"
   ]
  },
  {
   "cell_type": "code",
   "execution_count": 7,
   "metadata": {},
   "outputs": [],
   "source": [
    "cbow_model = Word2Vec(sentences, min_count=1, size=100, window=5, sg = 0)"
   ]
  },
  {
   "cell_type": "code",
   "execution_count": 8,
   "metadata": {},
   "outputs": [
    {
     "name": "stdout",
     "output_type": "stream",
     "text": [
      "boy ,  girl  :  0.94339883\n",
      "king ,  queen  :  0.9203934\n",
      "like ,  love  :  0.31226218\n",
      "dog ,  cat  :  0.8243447\n",
      "phone ,  computer  :  0.4219136\n",
      "singing ,  sing  :  0.9145067\n"
     ]
    },
    {
     "name": "stderr",
     "output_type": "stream",
     "text": [
      "c:\\python\\venv\\tensorflow\\lib\\site-packages\\ipykernel_launcher.py:5: DeprecationWarning: Call to deprecated `similarity` (Method will be removed in 4.0.0, use self.wv.similarity() instead).\n",
      "  \"\"\"\n"
     ]
    }
   ],
   "source": [
    "first_word = ['boy', 'king', 'like', 'dog', 'phone', 'singing']\n",
    "second_word = ['girl', 'queen', 'love', 'cat', 'computer', 'sing']\n",
    "\n",
    "for i in range(len(first_word)):\n",
    "    print(first_word[i], ', ', second_word[i], ' : ', cbow_model.similarity(first_word[i], second_word[i]))"
   ]
  },
  {
   "cell_type": "code",
   "execution_count": 9,
   "metadata": {},
   "outputs": [
    {
     "data": {
      "text/plain": [
       "[('girl', 0.9433988332748413),\n",
       " ('woman', 0.8931592106819153),\n",
       " ('man', 0.8710662126541138),\n",
       " ('cop', 0.849236249923706),\n",
       " ('jack', 0.8438774943351746),\n",
       " ('harry', 0.841282844543457),\n",
       " ('son', 0.8387294411659241),\n",
       " ('daughter', 0.8364970684051514),\n",
       " ('married', 0.8323555588722229),\n",
       " ('kid', 0.8319256901741028)]"
      ]
     },
     "execution_count": 9,
     "metadata": {},
     "output_type": "execute_result"
    }
   ],
   "source": [
    "cbow_model.wv.most_similar(\"boy\")"
   ]
  },
  {
   "cell_type": "code",
   "execution_count": 10,
   "metadata": {},
   "outputs": [
    {
     "name": "stdout",
     "output_type": "stream",
     "text": [
      "[-0.6112042   0.10320257  0.11714824 -0.04230443 -0.04232351 -0.20479491\n",
      " -0.03060863 -0.823337   -0.19957566  0.10784207 -0.7917813   0.4544842\n",
      "  0.08565795  0.72550505 -0.49499664  0.05751964 -0.8720135   0.9594976\n",
      "  1.5672793   0.32945552 -1.2009254   0.12767811 -1.4230231   0.12134916\n",
      "  0.3647663   0.30834168 -0.30584067  0.5029743  -0.1799015   0.48129383\n",
      "  0.8895376   0.38312432  0.8506837   0.04767951  0.6738508   0.67514634\n",
      " -0.15084095  0.10911907  0.49643663  1.0803401  -0.7268286   0.65122235\n",
      "  0.44123968  0.8781932   0.17662849 -0.60410756  0.7534643   0.09010995\n",
      " -0.25137538  0.47314584  0.13783881 -0.16886178 -0.15762389  0.04223827\n",
      " -0.67197347  1.1769154  -0.36933345  0.35511816 -0.14273106 -0.18547666\n",
      "  0.51171696 -0.09061907 -0.11523246  1.0518103   1.0858217   0.67723954\n",
      " -0.253784    0.89956033 -0.4133004   0.4129349  -0.12580036 -0.3136954\n",
      " -0.2358697   0.43498483 -0.26126328 -0.6002711  -0.17725718 -0.20825416\n",
      " -0.03365733 -0.20149301  0.43257293 -0.45448712  0.0769996  -0.6833854\n",
      " -0.202326   -0.6353207  -0.649951   -0.29313463  0.30822137 -0.15480967\n",
      "  0.4839031   0.6793257   0.4062908   0.06278624 -0.17971289 -0.42790845\n",
      " -0.6423642   0.12001281 -1.0611311   0.23977484]\n"
     ]
    }
   ],
   "source": [
    "vector = cbow_model.wv['boy']\n",
    "print(vector)"
   ]
  },
  {
   "cell_type": "code",
   "execution_count": 11,
   "metadata": {},
   "outputs": [
    {
     "name": "stderr",
     "output_type": "stream",
     "text": [
      "c:\\python\\venv\\tensorflow\\lib\\site-packages\\ipykernel_launcher.py:1: DeprecationWarning: Call to deprecated `similarity` (Method will be removed in 4.0.0, use self.wv.similarity() instead).\n",
      "  \"\"\"Entry point for launching an IPython kernel.\n"
     ]
    },
    {
     "data": {
      "text/plain": [
       "0.8844822"
      ]
     },
     "execution_count": 11,
     "metadata": {},
     "output_type": "execute_result"
    }
   ],
   "source": [
    "cbow_model.similarity('he', 'she')"
   ]
  },
  {
   "cell_type": "code",
   "execution_count": 12,
   "metadata": {},
   "outputs": [
    {
     "name": "stderr",
     "output_type": "stream",
     "text": [
      "c:\\python\\venv\\tensorflow\\lib\\site-packages\\ipykernel_launcher.py:1: DeprecationWarning: Call to deprecated `most_similar` (Method will be removed in 4.0.0, use self.wv.most_similar() instead).\n",
      "  \"\"\"Entry point for launching an IPython kernel.\n"
     ]
    },
    {
     "data": {
      "text/plain": [
       "[('sparticus', 0.27668872475624084)]"
      ]
     },
     "execution_count": 12,
     "metadata": {},
     "output_type": "execute_result"
    }
   ],
   "source": [
    "skip_model.most_similar(positive=['actor', 'he'], negative='actress', topn=1)"
   ]
  },
  {
   "cell_type": "code",
   "execution_count": null,
   "metadata": {},
   "outputs": [],
   "source": []
  }
 ],
 "metadata": {
  "kernelspec": {
   "display_name": "Python 3",
   "language": "python",
   "name": "python3"
  },
  "language_info": {
   "codemirror_mode": {
    "name": "ipython",
    "version": 3
   },
   "file_extension": ".py",
   "mimetype": "text/x-python",
   "name": "python",
   "nbconvert_exporter": "python",
   "pygments_lexer": "ipython3",
   "version": "3.6.8"
  }
 },
 "nbformat": 4,
 "nbformat_minor": 2
}
